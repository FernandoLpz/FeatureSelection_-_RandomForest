{
 "cells": [
  {
   "cell_type": "markdown",
   "metadata": {},
   "source": [
    "# Feature Selection & Random Forest-based Model\n",
    "\n",
    "In this kernel I will develop a solution by first, selecting the most relevant features and then applying a random forest to solve the classification problem"
   ]
  },
  {
   "cell_type": "markdown",
   "metadata": {},
   "source": [
    "## 1. Let's get started"
   ]
  },
  {
   "cell_type": "code",
   "execution_count": 2,
   "metadata": {
    "_cell_guid": "b1076dfc-b9ad-4769-8c92-a6c4dae69d19",
    "_uuid": "8f2839f25d086af736a60e9eeb907d3b93b6e0e5"
   },
   "outputs": [],
   "source": [
    "# Author: Fernando Lopez\n",
    "import numpy as np \n",
    "import pandas as pd \n",
    "\n",
    "from sklearn.ensemble import RandomForestClassifier\n",
    "from sklearn.model_selection import train_test_split\n",
    "from sklearn.preprocessing import MinMaxScaler\n",
    "from sklearn.metrics import confusion_matrix\n",
    "from sklearn.metrics import accuracy_score\n",
    "from sklearn.decomposition import PCA\n",
    "\n",
    "import matplotlib.pyplot as plt\n",
    "import seaborn as sb"
   ]
  },
  {
   "cell_type": "markdown",
   "metadata": {},
   "source": [
    "Loading the `train.csv` file and assigning the `target` column to our target `y`."
   ]
  },
  {
   "cell_type": "code",
   "execution_count": 3,
   "metadata": {
    "_cell_guid": "79c7e3d0-c299-4dcb-8224-4455121ee9b0",
    "_uuid": "d629ff2d2480ee46fbb7e2d37f6b5fab8052498a"
   },
   "outputs": [],
   "source": [
    "x = pd.read_csv('train.csv')\n",
    "y = x['target']\n",
    "\n",
    "x = x.drop(['target','ID_code'],axis=1)"
   ]
  },
  {
   "cell_type": "markdown",
   "metadata": {},
   "source": [
    "## 2. Scaling Features"
   ]
  },
  {
   "cell_type": "markdown",
   "metadata": {},
   "source": [
    "One of the most common techniques to scale features is to apply  `MinMaxScaler`. \n",
    "First, I will transform the pandas dataframe into numpy arrays."
   ]
  },
  {
   "cell_type": "code",
   "execution_count": 5,
   "metadata": {},
   "outputs": [],
   "source": [
    "x = x.values\n",
    "y = y.values"
   ]
  },
  {
   "cell_type": "markdown",
   "metadata": {},
   "source": [
    "Then I will initialize the `MinMaxScaler` function, fit `x` and transform it."
   ]
  },
  {
   "cell_type": "code",
   "execution_count": 6,
   "metadata": {},
   "outputs": [],
   "source": [
    "scaler = MinMaxScaler()\n",
    "scaler.fit(x)\n",
    "x = scaler.transform(x)"
   ]
  },
  {
   "cell_type": "markdown",
   "metadata": {},
   "source": [
    "## 3. Feature Selection\n",
    "How to chose the best `n` features from a given dataset?. To extract features from a given dataset is an art. There many techinques to select the best `n` features. In this stage, I will select the top `n` features by first comparing the variance given a compression technique as PCA and then chosing the top `n` which give the more variance."
   ]
  },
  {
   "cell_type": "code",
   "execution_count": 7,
   "metadata": {},
   "outputs": [
    {
     "data": {
      "text/plain": [
       "Text(0, 0.5, 'Variance Ratio')"
      ]
     },
     "execution_count": 7,
     "metadata": {},
     "output_type": "execute_result"
    },
    {
     "data": {
      "image/png": "[encoded data removed]",
      "text/plain": [
       "<Figure size 648x576 with 1 Axes>"
      ]
     },
     "metadata": {
      "needs_background": "light"
     },
     "output_type": "display_data"
    }
   ],
   "source": [
    "pca = PCA()\n",
    "pca.fit(x)\n",
    "\n",
    "plt.figure(1, figsize=(9, 8))\n",
    "plt.clf()\n",
    "plt.axes([.2, .2, .7, .7])\n",
    "plt.plot(pca.explained_variance_ratio_, linewidth=2)\n",
    "plt.axis('tight')\n",
    "plt.xlabel('Number of Feautres')\n",
    "plt.ylabel('Variance Ratio')"
   ]
  },
  {
   "cell_type": "markdown",
   "metadata": {},
   "source": [
    "Given the plot, I will try to chose the top `25` features."
   ]
  },
  {
   "cell_type": "markdown",
   "metadata": {},
   "source": [
    "### 3.1 Applying Random Forest as technique to select the top 25 features."
   ]
  },
  {
   "cell_type": "code",
   "execution_count": 8,
   "metadata": {},
   "outputs": [
    {
     "name": "stderr",
     "output_type": "stream",
     "text": [
      "/usr/local/lib/python3.7/site-packages/sklearn/ensemble/forest.py:246: FutureWarning: The default value of n_estimators will change from 10 in version 0.20 to 100 in 0.22.\n",
      "  \"10 in version 0.20 to 100 in 0.22.\", FutureWarning)\n"
     ]
    }
   ],
   "source": [
    "RF = RandomForestClassifier() \n",
    "RF = RF.fit(x, y)"
   ]
  },
  {
   "cell_type": "markdown",
   "metadata": {},
   "source": [
    "Now, given each estimator of the random forest  `RF`, I will calculate the standard deviation and sort them. By sorting these results, we will see the top `n` features."
   ]
  },
  {
   "cell_type": "code",
   "execution_count": 10,
   "metadata": {},
   "outputs": [],
   "source": [
    "std = np.std([tree.feature_importances_ for tree in RF.estimators_], axis=0)\n"
   ]
  },
  {
   "cell_type": "markdown",
   "metadata": {},
   "source": [
    "Sorting:"
   ]
  },
  {
   "cell_type": "code",
   "execution_count": 11,
   "metadata": {},
   "outputs": [],
   "source": [
    "indices = np.argsort(std)[::-1]"
   ]
  },
  {
   "cell_type": "markdown",
   "metadata": {},
   "source": [
    "Now let's see the rank"
   ]
  },
  {
   "cell_type": "code",
   "execution_count": 12,
   "metadata": {},
   "outputs": [
    {
     "name": "stdout",
     "output_type": "stream",
     "text": [
      "Feature Rank:\n",
      "1. Feature 139 (0.001838)\n",
      "2. Feature 12 (0.001313)\n",
      "3. Feature 81 (0.001225)\n",
      "4. Feature 2 (0.001216)\n",
      "5. Feature 109 (0.001178)\n",
      "6. Feature 32 (0.001161)\n",
      "7. Feature 146 (0.001155)\n",
      "8. Feature 99 (0.001132)\n",
      "9. Feature 78 (0.001129)\n",
      "10. Feature 6 (0.001122)\n",
      "11. Feature 98 (0.001121)\n",
      "12. Feature 154 (0.001118)\n",
      "13. Feature 40 (0.001111)\n",
      "14. Feature 80 (0.001104)\n",
      "15. Feature 131 (0.001070)\n",
      "16. Feature 149 (0.001051)\n",
      "17. Feature 53 (0.001047)\n",
      "18. Feature 69 (0.001025)\n",
      "19. Feature 163 (0.001014)\n",
      "20. Feature 148 (0.001012)\n",
      "21. Feature 116 (0.001011)\n",
      "22. Feature 191 (0.000996)\n",
      "23. Feature 76 (0.000982)\n",
      "24. Feature 33 (0.000973)\n",
      "25. Feature 82 (0.000972)\n",
      "26. Feature 26 (0.000967)\n",
      "27. Feature 83 (0.000948)\n",
      "28. Feature 145 (0.000940)\n",
      "29. Feature 174 (0.000934)\n",
      "30. Feature 107 (0.000930)\n",
      "31. Feature 1 (0.000927)\n",
      "32. Feature 91 (0.000922)\n",
      "33. Feature 169 (0.000920)\n",
      "34. Feature 123 (0.000918)\n",
      "35. Feature 161 (0.000915)\n",
      "36. Feature 192 (0.000913)\n",
      "37. Feature 122 (0.000907)\n",
      "38. Feature 129 (0.000905)\n",
      "39. Feature 106 (0.000897)\n",
      "40. Feature 159 (0.000887)\n",
      "41. Feature 133 (0.000886)\n",
      "42. Feature 34 (0.000884)\n",
      "43. Feature 102 (0.000883)\n",
      "44. Feature 110 (0.000881)\n",
      "45. Feature 135 (0.000877)\n",
      "46. Feature 22 (0.000875)\n",
      "47. Feature 190 (0.000873)\n",
      "48. Feature 89 (0.000869)\n",
      "49. Feature 0 (0.000862)\n",
      "50. Feature 44 (0.000853)\n",
      "51. Feature 96 (0.000853)\n",
      "52. Feature 194 (0.000852)\n",
      "53. Feature 164 (0.000850)\n",
      "54. Feature 165 (0.000845)\n",
      "55. Feature 39 (0.000836)\n",
      "56. Feature 171 (0.000830)\n",
      "57. Feature 47 (0.000820)\n",
      "58. Feature 185 (0.000819)\n",
      "59. Feature 144 (0.000816)\n",
      "60. Feature 14 (0.000811)\n",
      "61. Feature 9 (0.000810)\n",
      "62. Feature 56 (0.000810)\n",
      "63. Feature 141 (0.000808)\n",
      "64. Feature 75 (0.000806)\n",
      "65. Feature 37 (0.000805)\n",
      "66. Feature 128 (0.000805)\n",
      "67. Feature 35 (0.000804)\n",
      "68. Feature 118 (0.000801)\n",
      "69. Feature 13 (0.000798)\n",
      "70. Feature 95 (0.000796)\n",
      "71. Feature 153 (0.000794)\n",
      "72. Feature 187 (0.000794)\n",
      "73. Feature 162 (0.000788)\n",
      "74. Feature 94 (0.000787)\n",
      "75. Feature 138 (0.000785)\n",
      "76. Feature 77 (0.000785)\n",
      "77. Feature 93 (0.000780)\n",
      "78. Feature 79 (0.000780)\n",
      "79. Feature 155 (0.000780)\n",
      "80. Feature 173 (0.000778)\n",
      "81. Feature 121 (0.000775)\n",
      "82. Feature 38 (0.000773)\n",
      "83. Feature 97 (0.000771)\n",
      "84. Feature 198 (0.000768)\n",
      "85. Feature 152 (0.000768)\n",
      "86. Feature 72 (0.000767)\n",
      "87. Feature 58 (0.000765)\n",
      "88. Feature 31 (0.000763)\n",
      "89. Feature 108 (0.000760)\n",
      "90. Feature 24 (0.000756)\n",
      "91. Feature 114 (0.000756)\n",
      "92. Feature 3 (0.000755)\n",
      "93. Feature 166 (0.000755)\n",
      "94. Feature 132 (0.000754)\n",
      "95. Feature 23 (0.000754)\n",
      "96. Feature 90 (0.000751)\n",
      "97. Feature 30 (0.000748)\n",
      "98. Feature 150 (0.000745)\n",
      "99. Feature 100 (0.000743)\n",
      "100. Feature 16 (0.000743)\n",
      "101. Feature 181 (0.000733)\n",
      "102. Feature 127 (0.000727)\n",
      "103. Feature 50 (0.000722)\n",
      "104. Feature 101 (0.000722)\n",
      "105. Feature 86 (0.000722)\n",
      "106. Feature 67 (0.000721)\n",
      "107. Feature 51 (0.000720)\n",
      "108. Feature 137 (0.000718)\n",
      "109. Feature 119 (0.000714)\n",
      "110. Feature 7 (0.000707)\n",
      "111. Feature 43 (0.000706)\n",
      "112. Feature 142 (0.000704)\n",
      "113. Feature 45 (0.000703)\n",
      "114. Feature 4 (0.000703)\n",
      "115. Feature 19 (0.000702)\n",
      "116. Feature 59 (0.000702)\n",
      "117. Feature 197 (0.000699)\n",
      "118. Feature 46 (0.000695)\n",
      "119. Feature 176 (0.000695)\n",
      "120. Feature 125 (0.000689)\n",
      "121. Feature 195 (0.000689)\n",
      "122. Feature 136 (0.000685)\n",
      "123. Feature 25 (0.000682)\n",
      "124. Feature 177 (0.000681)\n",
      "125. Feature 112 (0.000681)\n",
      "126. Feature 158 (0.000679)\n",
      "127. Feature 157 (0.000679)\n",
      "128. Feature 68 (0.000676)\n",
      "129. Feature 124 (0.000672)\n",
      "130. Feature 63 (0.000668)\n",
      "131. Feature 27 (0.000666)\n",
      "132. Feature 42 (0.000664)\n",
      "133. Feature 156 (0.000662)\n",
      "134. Feature 199 (0.000661)\n",
      "135. Feature 184 (0.000658)\n",
      "136. Feature 188 (0.000657)\n",
      "137. Feature 61 (0.000655)\n",
      "138. Feature 88 (0.000650)\n",
      "139. Feature 180 (0.000646)\n",
      "140. Feature 29 (0.000646)\n",
      "141. Feature 18 (0.000642)\n",
      "142. Feature 87 (0.000641)\n",
      "143. Feature 20 (0.000637)\n",
      "144. Feature 189 (0.000636)\n",
      "145. Feature 85 (0.000633)\n",
      "146. Feature 196 (0.000629)\n",
      "147. Feature 15 (0.000626)\n",
      "148. Feature 115 (0.000623)\n",
      "149. Feature 105 (0.000622)\n",
      "150. Feature 71 (0.000619)\n",
      "151. Feature 48 (0.000609)\n",
      "152. Feature 167 (0.000609)\n",
      "153. Feature 143 (0.000607)\n",
      "154. Feature 126 (0.000596)\n",
      "155. Feature 21 (0.000592)\n",
      "156. Feature 186 (0.000590)\n",
      "157. Feature 113 (0.000586)\n",
      "158. Feature 11 (0.000586)\n",
      "159. Feature 36 (0.000585)\n",
      "160. Feature 170 (0.000582)\n",
      "161. Feature 179 (0.000579)\n",
      "162. Feature 175 (0.000578)\n",
      "163. Feature 178 (0.000575)\n",
      "164. Feature 54 (0.000575)\n",
      "165. Feature 120 (0.000570)\n",
      "166. Feature 64 (0.000568)\n",
      "167. Feature 49 (0.000565)\n",
      "168. Feature 168 (0.000565)\n",
      "169. Feature 182 (0.000546)\n",
      "170. Feature 134 (0.000544)\n",
      "171. Feature 111 (0.000538)\n",
      "172. Feature 130 (0.000537)\n",
      "173. Feature 92 (0.000527)\n",
      "174. Feature 172 (0.000524)\n",
      "175. Feature 8 (0.000518)\n",
      "176. Feature 60 (0.000515)\n",
      "177. Feature 193 (0.000513)\n",
      "178. Feature 183 (0.000509)\n",
      "179. Feature 70 (0.000503)\n",
      "180. Feature 10 (0.000503)\n",
      "181. Feature 41 (0.000469)\n",
      "182. Feature 52 (0.000468)\n",
      "183. Feature 5 (0.000467)\n",
      "184. Feature 103 (0.000466)\n",
      "185. Feature 73 (0.000465)\n",
      "186. Feature 57 (0.000464)\n",
      "187. Feature 140 (0.000460)\n",
      "188. Feature 55 (0.000444)\n",
      "189. Feature 62 (0.000439)\n",
      "190. Feature 117 (0.000431)\n",
      "191. Feature 151 (0.000427)\n",
      "192. Feature 74 (0.000427)\n",
      "193. Feature 17 (0.000411)\n",
      "194. Feature 147 (0.000397)\n",
      "195. Feature 84 (0.000394)\n",
      "196. Feature 160 (0.000392)\n",
      "197. Feature 28 (0.000390)\n",
      "198. Feature 66 (0.000379)\n",
      "199. Feature 104 (0.000350)\n",
      "200. Feature 65 (0.000345)\n"
     ]
    }
   ],
   "source": [
    "print(\"Feature Rank:\")\n",
    "\n",
    "for i in range(x.shape[1]):\n",
    "    print(\"%d. Feature %d (%f)\" \n",
    "          % (i + 1, indices[i], std[indices[i]]))"
   ]
  },
  {
   "cell_type": "markdown",
   "metadata": {},
   "source": [
    "As I suggested, I will select the top `25` features. Let's do that."
   ]
  },
  {
   "cell_type": "code",
   "execution_count": 13,
   "metadata": {},
   "outputs": [],
   "source": [
    "x_ = []\n",
    "for i in range(25):\n",
    "    x_.append(x[:,indices[i]])\n",
    "x_ = np.array(x_)"
   ]
  },
  {
   "cell_type": "code",
   "execution_count": 14,
   "metadata": {},
   "outputs": [],
   "source": [
    "x_ = x_.T"
   ]
  },
  {
   "cell_type": "markdown",
   "metadata": {},
   "source": [
    "## 4. Random Forest Classifier"
   ]
  },
  {
   "cell_type": "markdown",
   "metadata": {},
   "source": [
    "I will implement a simple random forest classifier to solve the classification problem. <br>\n",
    "First, I will split the `x_` into train and test."
   ]
  },
  {
   "cell_type": "code",
   "execution_count": 15,
   "metadata": {},
   "outputs": [],
   "source": [
    "X_train, X_test, y_train, y_test = train_test_split(x_, y, test_size=0.15, random_state=42)"
   ]
  },
  {
   "cell_type": "markdown",
   "metadata": {},
   "source": [
    "Initialization and fit."
   ]
  },
  {
   "cell_type": "code",
   "execution_count": 16,
   "metadata": {},
   "outputs": [
    {
     "name": "stderr",
     "output_type": "stream",
     "text": [
      "/usr/local/lib/python3.7/site-packages/sklearn/ensemble/forest.py:246: FutureWarning: The default value of n_estimators will change from 10 in version 0.20 to 100 in 0.22.\n",
      "  \"10 in version 0.20 to 100 in 0.22.\", FutureWarning)\n"
     ]
    }
   ],
   "source": [
    "rfm = RandomForestClassifier()      \n",
    "rfm = rfm.fit(X_train, y_train)"
   ]
  },
  {
   "cell_type": "markdown",
   "metadata": {},
   "source": [
    "Our random forest model has already been trained. Let's test our model."
   ]
  },
  {
   "cell_type": "code",
   "execution_count": 17,
   "metadata": {},
   "outputs": [
    {
     "name": "stdout",
     "output_type": "stream",
     "text": [
      "Accuracy:  0.8959666666666667\n"
     ]
    }
   ],
   "source": [
    "y_pred = rfm.predict(X_test)\n",
    "accuracy = accuracy_score(y_test, y_pred)\n",
    "print('Accuracy: ',accuracy)"
   ]
  },
  {
   "cell_type": "markdown",
   "metadata": {},
   "source": [
    "An acceptable accuracy. <br>\n",
    "Let's take a look at a confusion matrix to see the model behavior."
   ]
  },
  {
   "cell_type": "code",
   "execution_count": 18,
   "metadata": {},
   "outputs": [
    {
     "data": {
      "text/plain": [
       "<matplotlib.axes._subplots.AxesSubplot at 0x116bc5f60>"
      ]
     },
     "execution_count": 18,
     "metadata": {},
     "output_type": "execute_result"
    },
    {
     "data": {
      "image/png": "[encoded data removed]",
      "text/plain": [
       "<Figure size 432x288 with 2 Axes>"
      ]
     },
     "metadata": {
      "needs_background": "light"
     },
     "output_type": "display_data"
    }
   ],
   "source": [
    "confMatrix = confusion_matrix(y_test, y_pred)\n",
    "sb.heatmap(confMatrix, annot=True, fmt=\"d\")"
   ]
  },
  {
   "cell_type": "markdown",
   "metadata": {},
   "source": [
    "## 5. Conclusion\n",
    "\n",
    "We have seen how to select the top `n` features by first applying a compression technique such as PCA, then applying a random forest model to rank the features by variance in each stimator and then applying random forest to solve the classifcation problem.\n",
    "\n",
    "For future work I would like try another method to extract features such as univariate feature selection or even recursive feature selection (RF). "
   ]
  }
 ],
 "metadata": {
  "kernelspec": {
   "display_name": "Python 3",
   "language": "python",
   "name": "python3"
  },
  "language_info": {
   "codemirror_mode": {
    "name": "ipython",
    "version": 3
   },
   "file_extension": ".py",
   "mimetype": "text/x-python",
   "name": "python",
   "nbconvert_exporter": "python",
   "pygments_lexer": "ipython3",
   "version": "3.7.1"
  }
 },
 "nbformat": 4,
 "nbformat_minor": 1
}
